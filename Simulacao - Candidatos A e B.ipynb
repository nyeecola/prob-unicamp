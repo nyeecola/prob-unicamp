{
 "cells": [
  {
   "cell_type": "markdown",
   "metadata": {},
   "source": [
    "# Simulação - Candidatos A e B\n",
    "\n",
    "### Italo Nicola Ponce Pasini Judice Neto\n",
    "### RA 170207\n",
    "\n",
    "#### Sem grupo (fiz sozinho)"
   ]
  },
  {
   "cell_type": "code",
   "execution_count": 113,
   "metadata": {},
   "outputs": [],
   "source": [
    "import random\n",
    "import matplotlib.pyplot as plt\n",
    "from math import sqrt\n",
    "\n",
    "p = 0.3 # Probabilidade de votar no candidato A\n",
    "\n",
    "def amostragem(n):\n",
    "    p_chapeu_list = []\n",
    "    avg = 0\n",
    "    for k in range(2000):\n",
    "        a_votes = 0\n",
    "        b_votes = 1\n",
    "        for i in range(n):\n",
    "            r = random.random()\n",
    "            if r <= 0.3:\n",
    "                a_votes += 1\n",
    "            else:\n",
    "                b_votes += 1        \n",
    "        p_chapeu = a_votes / (b_votes + a_votes)\n",
    "        p_chapeu_list.append(p_chapeu)\n",
    "        avg += p_chapeu\n",
    "    avg /= 2000\n",
    "\n",
    "    var = 0\n",
    "    for x in p_chapeu_list:\n",
    "        var += (x - avg) * (x - avg)\n",
    "    stddev = sqrt(var)\n",
    "\n",
    "    print('Média: ' + str(avg))\n",
    "    print('Desvio Padrão: ' + str(stddev))\n",
    "\n",
    "    fig, ax = plt.subplots(1, 1)\n",
    "    plt.hist(p_chapeu_list, bins=[0.0, 0.1, 0.2, 0.3, 0.4, 0.5, 0.6, 0.7, 0.8, 0.9, 1.0], range=(0,1), histtype='bar')\n",
    "    ax.set_xticks([0.0, 0.1, 0.2, 0.3, 0.4, 0.5, 0.6, 0.7, 0.8, 0.9, 1.0])\n",
    "    plt.show()"
   ]
  },
  {
   "cell_type": "markdown",
   "metadata": {},
   "source": [
    "### Amostras de tamanho N = 20"
   ]
  },
  {
   "cell_type": "code",
   "execution_count": 118,
   "metadata": {},
   "outputs": [
    {
     "name": "stdout",
     "output_type": "stream",
     "text": [
      "Média: 0.28624999999999906\n",
      "Desvio Padrão: 3.9935946310213994\n"
     ]
    },
    {
     "data": {
      "image/png": "[encoded data removed]",
      "text/plain": [
       "<Figure size 432x288 with 1 Axes>"
      ]
     },
     "metadata": {
      "needs_background": "light"
     },
     "output_type": "display_data"
    }
   ],
   "source": [
    "n = 25\n",
    "\n",
    "amostragem(n)"
   ]
  },
  {
   "cell_type": "markdown",
   "metadata": {},
   "source": [
    "### Amostras de tamanho N = 120\n"
   ]
  },
  {
   "cell_type": "code",
   "execution_count": 120,
   "metadata": {},
   "outputs": [
    {
     "name": "stdout",
     "output_type": "stream",
     "text": [
      "Média: 0.29834105960265167\n",
      "Desvio Padrão: 1.684647673381749\n"
     ]
    },
    {
     "data": {
      "image/png": "[encoded data removed]",
      "text/plain": [
       "<Figure size 432x288 with 1 Axes>"
      ]
     },
     "metadata": {
      "needs_background": "light"
     },
     "output_type": "display_data"
    }
   ],
   "source": [
    "n = 150\n",
    "\n",
    "amostragem(n)"
   ]
  },
  {
   "cell_type": "markdown",
   "metadata": {},
   "source": [
    "### Comparação dos resultados obtidos\n",
    "\n",
    "Como esperado, ao usar amostras de tamanho maior, temos uma média mais próxima a média real (0.3) e um desvio padrão consideravelmente menor (1.685 < 3.994).\n",
    "\n"
   ]
  }
 ],
 "metadata": {
  "kernelspec": {
   "display_name": "Python 3",
   "language": "python",
   "name": "python3"
  },
  "language_info": {
   "codemirror_mode": {
    "name": "ipython",
    "version": 3
   },
   "file_extension": ".py",
   "mimetype": "text/x-python",
   "name": "python",
   "nbconvert_exporter": "python",
   "pygments_lexer": "ipython3",
   "version": "3.7.3"
  }
 },
 "nbformat": 4,
 "nbformat_minor": 2
}
